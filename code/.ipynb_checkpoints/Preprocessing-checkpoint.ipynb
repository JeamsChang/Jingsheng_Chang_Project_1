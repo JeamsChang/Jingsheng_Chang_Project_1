{
 "cells": [
  {
   "cell_type": "markdown",
   "id": "6c58a6b0-de37-4786-88ef-9f69137c6b7b",
   "metadata": {},
   "source": [
    "## 1. Import library"
   ]
  },
  {
   "cell_type": "code",
   "execution_count": 1,
   "id": "ea0827e6-d2a3-44a2-a1f0-9d8dfc7f502b",
   "metadata": {},
   "outputs": [],
   "source": [
    "import pandas as pd\n",
    "import numpy as np\n",
    "import warnings\n",
    "warnings.filterwarnings(\"ignore\")"
   ]
  },
  {
   "cell_type": "markdown",
   "id": "43e062da-6dd8-4ba9-a7a5-d0b8d5b42fef",
   "metadata": {
    "tags": []
   },
   "source": [
    "## 2. Read data"
   ]
  },
  {
   "cell_type": "code",
   "execution_count": 2,
   "id": "78f76998-644e-4575-ad24-2441dfe0da90",
   "metadata": {
    "tags": []
   },
   "outputs": [
    {
     "name": "stdout",
     "output_type": "stream",
     "text": [
      "(9710124, 17)\n",
      "(9168825, 17)\n",
      "(10294628, 17)\n"
     ]
    }
   ],
   "source": [
    "yellow_17_1 = pd.read_csv(\"../raw_data/yellow_tripdata_2017-01.csv\")\n",
    "yellow_17_2 = pd.read_csv(\"../raw_data/yellow_tripdata_2017-02.csv\")\n",
    "yellow_17_3 = pd.read_csv(\"../raw_data/yellow_tripdata_2017-03.csv\")\n",
    "\n",
    "print(yellow_17_1.shape)\n",
    "print(yellow_17_2.shape)\n",
    "print(yellow_17_3.shape)"
   ]
  },
  {
   "cell_type": "code",
   "execution_count": 3,
   "id": "be6b812f-0a52-4cd8-b2cf-5fcf9f977bb5",
   "metadata": {},
   "outputs": [
    {
     "data": {
      "text/html": [
       "<div>\n",
       "<style scoped>\n",
       "    .dataframe tbody tr th:only-of-type {\n",
       "        vertical-align: middle;\n",
       "    }\n",
       "\n",
       "    .dataframe tbody tr th {\n",
       "        vertical-align: top;\n",
       "    }\n",
       "\n",
       "    .dataframe thead th {\n",
       "        text-align: right;\n",
       "    }\n",
       "</style>\n",
       "<table border=\"1\" class=\"dataframe\">\n",
       "  <thead>\n",
       "    <tr style=\"text-align: right;\">\n",
       "      <th></th>\n",
       "      <th>VendorID</th>\n",
       "      <th>tpep_pickup_datetime</th>\n",
       "      <th>tpep_dropoff_datetime</th>\n",
       "      <th>passenger_count</th>\n",
       "      <th>trip_distance</th>\n",
       "      <th>RatecodeID</th>\n",
       "      <th>store_and_fwd_flag</th>\n",
       "      <th>PULocationID</th>\n",
       "      <th>DOLocationID</th>\n",
       "      <th>payment_type</th>\n",
       "      <th>fare_amount</th>\n",
       "      <th>extra</th>\n",
       "      <th>mta_tax</th>\n",
       "      <th>tip_amount</th>\n",
       "      <th>tolls_amount</th>\n",
       "      <th>improvement_surcharge</th>\n",
       "      <th>total_amount</th>\n",
       "    </tr>\n",
       "  </thead>\n",
       "  <tbody>\n",
       "    <tr>\n",
       "      <th>0</th>\n",
       "      <td>1</td>\n",
       "      <td>2017-01-09 11:13:28</td>\n",
       "      <td>2017-01-09 11:25:45</td>\n",
       "      <td>1</td>\n",
       "      <td>3.30</td>\n",
       "      <td>1</td>\n",
       "      <td>N</td>\n",
       "      <td>263</td>\n",
       "      <td>161</td>\n",
       "      <td>1</td>\n",
       "      <td>12.5</td>\n",
       "      <td>0.0</td>\n",
       "      <td>0.5</td>\n",
       "      <td>2.00</td>\n",
       "      <td>0.00</td>\n",
       "      <td>0.3</td>\n",
       "      <td>15.30</td>\n",
       "    </tr>\n",
       "    <tr>\n",
       "      <th>1</th>\n",
       "      <td>1</td>\n",
       "      <td>2017-01-09 11:32:27</td>\n",
       "      <td>2017-01-09 11:36:01</td>\n",
       "      <td>1</td>\n",
       "      <td>0.90</td>\n",
       "      <td>1</td>\n",
       "      <td>N</td>\n",
       "      <td>186</td>\n",
       "      <td>234</td>\n",
       "      <td>1</td>\n",
       "      <td>5.0</td>\n",
       "      <td>0.0</td>\n",
       "      <td>0.5</td>\n",
       "      <td>1.45</td>\n",
       "      <td>0.00</td>\n",
       "      <td>0.3</td>\n",
       "      <td>7.25</td>\n",
       "    </tr>\n",
       "    <tr>\n",
       "      <th>2</th>\n",
       "      <td>1</td>\n",
       "      <td>2017-01-09 11:38:20</td>\n",
       "      <td>2017-01-09 11:42:05</td>\n",
       "      <td>1</td>\n",
       "      <td>1.10</td>\n",
       "      <td>1</td>\n",
       "      <td>N</td>\n",
       "      <td>164</td>\n",
       "      <td>161</td>\n",
       "      <td>1</td>\n",
       "      <td>5.5</td>\n",
       "      <td>0.0</td>\n",
       "      <td>0.5</td>\n",
       "      <td>1.00</td>\n",
       "      <td>0.00</td>\n",
       "      <td>0.3</td>\n",
       "      <td>7.30</td>\n",
       "    </tr>\n",
       "    <tr>\n",
       "      <th>3</th>\n",
       "      <td>1</td>\n",
       "      <td>2017-01-09 11:52:13</td>\n",
       "      <td>2017-01-09 11:57:36</td>\n",
       "      <td>1</td>\n",
       "      <td>1.10</td>\n",
       "      <td>1</td>\n",
       "      <td>N</td>\n",
       "      <td>236</td>\n",
       "      <td>75</td>\n",
       "      <td>1</td>\n",
       "      <td>6.0</td>\n",
       "      <td>0.0</td>\n",
       "      <td>0.5</td>\n",
       "      <td>1.70</td>\n",
       "      <td>0.00</td>\n",
       "      <td>0.3</td>\n",
       "      <td>8.50</td>\n",
       "    </tr>\n",
       "    <tr>\n",
       "      <th>4</th>\n",
       "      <td>2</td>\n",
       "      <td>2017-01-01 00:00:00</td>\n",
       "      <td>2017-01-01 00:00:00</td>\n",
       "      <td>1</td>\n",
       "      <td>0.02</td>\n",
       "      <td>2</td>\n",
       "      <td>N</td>\n",
       "      <td>249</td>\n",
       "      <td>234</td>\n",
       "      <td>2</td>\n",
       "      <td>52.0</td>\n",
       "      <td>0.0</td>\n",
       "      <td>0.5</td>\n",
       "      <td>0.00</td>\n",
       "      <td>0.00</td>\n",
       "      <td>0.3</td>\n",
       "      <td>52.80</td>\n",
       "    </tr>\n",
       "    <tr>\n",
       "      <th>...</th>\n",
       "      <td>...</td>\n",
       "      <td>...</td>\n",
       "      <td>...</td>\n",
       "      <td>...</td>\n",
       "      <td>...</td>\n",
       "      <td>...</td>\n",
       "      <td>...</td>\n",
       "      <td>...</td>\n",
       "      <td>...</td>\n",
       "      <td>...</td>\n",
       "      <td>...</td>\n",
       "      <td>...</td>\n",
       "      <td>...</td>\n",
       "      <td>...</td>\n",
       "      <td>...</td>\n",
       "      <td>...</td>\n",
       "      <td>...</td>\n",
       "    </tr>\n",
       "    <tr>\n",
       "      <th>9710119</th>\n",
       "      <td>2</td>\n",
       "      <td>2017-01-31 23:59:58</td>\n",
       "      <td>2017-02-01 00:20:01</td>\n",
       "      <td>1</td>\n",
       "      <td>4.95</td>\n",
       "      <td>1</td>\n",
       "      <td>N</td>\n",
       "      <td>114</td>\n",
       "      <td>112</td>\n",
       "      <td>1</td>\n",
       "      <td>18.0</td>\n",
       "      <td>0.5</td>\n",
       "      <td>0.5</td>\n",
       "      <td>3.86</td>\n",
       "      <td>0.00</td>\n",
       "      <td>0.3</td>\n",
       "      <td>23.16</td>\n",
       "    </tr>\n",
       "    <tr>\n",
       "      <th>9710120</th>\n",
       "      <td>2</td>\n",
       "      <td>2017-01-31 23:59:58</td>\n",
       "      <td>2017-02-01 00:03:43</td>\n",
       "      <td>1</td>\n",
       "      <td>0.55</td>\n",
       "      <td>1</td>\n",
       "      <td>N</td>\n",
       "      <td>114</td>\n",
       "      <td>113</td>\n",
       "      <td>1</td>\n",
       "      <td>4.0</td>\n",
       "      <td>0.5</td>\n",
       "      <td>0.5</td>\n",
       "      <td>0.50</td>\n",
       "      <td>0.00</td>\n",
       "      <td>0.3</td>\n",
       "      <td>5.80</td>\n",
       "    </tr>\n",
       "    <tr>\n",
       "      <th>9710121</th>\n",
       "      <td>1</td>\n",
       "      <td>2017-01-31 23:59:59</td>\n",
       "      <td>2017-02-01 00:24:35</td>\n",
       "      <td>2</td>\n",
       "      <td>5.00</td>\n",
       "      <td>1</td>\n",
       "      <td>N</td>\n",
       "      <td>158</td>\n",
       "      <td>80</td>\n",
       "      <td>1</td>\n",
       "      <td>20.5</td>\n",
       "      <td>0.5</td>\n",
       "      <td>0.5</td>\n",
       "      <td>4.35</td>\n",
       "      <td>0.00</td>\n",
       "      <td>0.3</td>\n",
       "      <td>26.15</td>\n",
       "    </tr>\n",
       "    <tr>\n",
       "      <th>9710122</th>\n",
       "      <td>2</td>\n",
       "      <td>2017-01-31 23:59:59</td>\n",
       "      <td>2017-02-01 00:21:15</td>\n",
       "      <td>1</td>\n",
       "      <td>10.43</td>\n",
       "      <td>1</td>\n",
       "      <td>N</td>\n",
       "      <td>138</td>\n",
       "      <td>162</td>\n",
       "      <td>1</td>\n",
       "      <td>30.5</td>\n",
       "      <td>0.5</td>\n",
       "      <td>0.5</td>\n",
       "      <td>5.00</td>\n",
       "      <td>5.54</td>\n",
       "      <td>0.3</td>\n",
       "      <td>42.34</td>\n",
       "    </tr>\n",
       "    <tr>\n",
       "      <th>9710123</th>\n",
       "      <td>2</td>\n",
       "      <td>2017-01-31 23:59:59</td>\n",
       "      <td>2017-02-01 00:07:50</td>\n",
       "      <td>3</td>\n",
       "      <td>0.80</td>\n",
       "      <td>1</td>\n",
       "      <td>N</td>\n",
       "      <td>249</td>\n",
       "      <td>114</td>\n",
       "      <td>1</td>\n",
       "      <td>6.5</td>\n",
       "      <td>0.5</td>\n",
       "      <td>0.5</td>\n",
       "      <td>1.00</td>\n",
       "      <td>0.00</td>\n",
       "      <td>0.3</td>\n",
       "      <td>8.80</td>\n",
       "    </tr>\n",
       "  </tbody>\n",
       "</table>\n",
       "<p>9710124 rows × 17 columns</p>\n",
       "</div>"
      ],
      "text/plain": [
       "         VendorID tpep_pickup_datetime tpep_dropoff_datetime  passenger_count  \\\n",
       "0               1  2017-01-09 11:13:28   2017-01-09 11:25:45                1   \n",
       "1               1  2017-01-09 11:32:27   2017-01-09 11:36:01                1   \n",
       "2               1  2017-01-09 11:38:20   2017-01-09 11:42:05                1   \n",
       "3               1  2017-01-09 11:52:13   2017-01-09 11:57:36                1   \n",
       "4               2  2017-01-01 00:00:00   2017-01-01 00:00:00                1   \n",
       "...           ...                  ...                   ...              ...   \n",
       "9710119         2  2017-01-31 23:59:58   2017-02-01 00:20:01                1   \n",
       "9710120         2  2017-01-31 23:59:58   2017-02-01 00:03:43                1   \n",
       "9710121         1  2017-01-31 23:59:59   2017-02-01 00:24:35                2   \n",
       "9710122         2  2017-01-31 23:59:59   2017-02-01 00:21:15                1   \n",
       "9710123         2  2017-01-31 23:59:59   2017-02-01 00:07:50                3   \n",
       "\n",
       "         trip_distance  RatecodeID store_and_fwd_flag  PULocationID  \\\n",
       "0                 3.30           1                  N           263   \n",
       "1                 0.90           1                  N           186   \n",
       "2                 1.10           1                  N           164   \n",
       "3                 1.10           1                  N           236   \n",
       "4                 0.02           2                  N           249   \n",
       "...                ...         ...                ...           ...   \n",
       "9710119           4.95           1                  N           114   \n",
       "9710120           0.55           1                  N           114   \n",
       "9710121           5.00           1                  N           158   \n",
       "9710122          10.43           1                  N           138   \n",
       "9710123           0.80           1                  N           249   \n",
       "\n",
       "         DOLocationID  payment_type  fare_amount  extra  mta_tax  tip_amount  \\\n",
       "0                 161             1         12.5    0.0      0.5        2.00   \n",
       "1                 234             1          5.0    0.0      0.5        1.45   \n",
       "2                 161             1          5.5    0.0      0.5        1.00   \n",
       "3                  75             1          6.0    0.0      0.5        1.70   \n",
       "4                 234             2         52.0    0.0      0.5        0.00   \n",
       "...               ...           ...          ...    ...      ...         ...   \n",
       "9710119           112             1         18.0    0.5      0.5        3.86   \n",
       "9710120           113             1          4.0    0.5      0.5        0.50   \n",
       "9710121            80             1         20.5    0.5      0.5        4.35   \n",
       "9710122           162             1         30.5    0.5      0.5        5.00   \n",
       "9710123           114             1          6.5    0.5      0.5        1.00   \n",
       "\n",
       "         tolls_amount  improvement_surcharge  total_amount  \n",
       "0                0.00                    0.3         15.30  \n",
       "1                0.00                    0.3          7.25  \n",
       "2                0.00                    0.3          7.30  \n",
       "3                0.00                    0.3          8.50  \n",
       "4                0.00                    0.3         52.80  \n",
       "...               ...                    ...           ...  \n",
       "9710119          0.00                    0.3         23.16  \n",
       "9710120          0.00                    0.3          5.80  \n",
       "9710121          0.00                    0.3         26.15  \n",
       "9710122          5.54                    0.3         42.34  \n",
       "9710123          0.00                    0.3          8.80  \n",
       "\n",
       "[9710124 rows x 17 columns]"
      ]
     },
     "execution_count": 3,
     "metadata": {},
     "output_type": "execute_result"
    }
   ],
   "source": [
    "yellow_17_1"
   ]
  },
  {
   "cell_type": "markdown",
   "id": "26fc4727-21dc-4835-8a26-c5a4a0449057",
   "metadata": {},
   "source": [
    "## 3. Check missing data"
   ]
  },
  {
   "cell_type": "code",
   "execution_count": 4,
   "id": "a00b61bc-3ca9-4b91-9705-26bf4256a211",
   "metadata": {
    "tags": []
   },
   "outputs": [
    {
     "name": "stdout",
     "output_type": "stream",
     "text": [
      "VendorID                 0\n",
      "tpep_pickup_datetime     0\n",
      "tpep_dropoff_datetime    0\n",
      "passenger_count          0\n",
      "trip_distance            0\n",
      "RatecodeID               0\n",
      "store_and_fwd_flag       0\n",
      "PULocationID             0\n",
      "DOLocationID             0\n",
      "payment_type             0\n",
      "fare_amount              0\n",
      "extra                    0\n",
      "mta_tax                  0\n",
      "tip_amount               0\n",
      "tolls_amount             0\n",
      "improvement_surcharge    0\n",
      "total_amount             0\n",
      "dtype: int64\n"
     ]
    }
   ],
   "source": [
    "print(yellow_17_1.isnull().sum())\n"
   ]
  },
  {
   "cell_type": "code",
   "execution_count": 5,
   "id": "2b49d91a-7d37-4bde-b6c9-69653f5e4722",
   "metadata": {},
   "outputs": [
    {
     "name": "stdout",
     "output_type": "stream",
     "text": [
      "VendorID                 0\n",
      "tpep_pickup_datetime     0\n",
      "tpep_dropoff_datetime    0\n",
      "passenger_count          0\n",
      "trip_distance            0\n",
      "RatecodeID               0\n",
      "store_and_fwd_flag       0\n",
      "PULocationID             0\n",
      "DOLocationID             0\n",
      "payment_type             0\n",
      "fare_amount              0\n",
      "extra                    0\n",
      "mta_tax                  0\n",
      "tip_amount               0\n",
      "tolls_amount             0\n",
      "improvement_surcharge    0\n",
      "total_amount             0\n",
      "dtype: int64\n"
     ]
    }
   ],
   "source": [
    "print(yellow_17_2.isnull().sum())\n"
   ]
  },
  {
   "cell_type": "code",
   "execution_count": 6,
   "id": "8820c3e8-6984-417d-99a1-e7a392b18ccc",
   "metadata": {},
   "outputs": [
    {
     "name": "stdout",
     "output_type": "stream",
     "text": [
      "VendorID                 0\n",
      "tpep_pickup_datetime     0\n",
      "tpep_dropoff_datetime    0\n",
      "passenger_count          0\n",
      "trip_distance            0\n",
      "RatecodeID               0\n",
      "store_and_fwd_flag       0\n",
      "PULocationID             0\n",
      "DOLocationID             0\n",
      "payment_type             0\n",
      "fare_amount              0\n",
      "extra                    0\n",
      "mta_tax                  0\n",
      "tip_amount               0\n",
      "tolls_amount             0\n",
      "improvement_surcharge    0\n",
      "total_amount             0\n",
      "dtype: int64\n"
     ]
    }
   ],
   "source": [
    "print(yellow_17_3.isnull().sum())"
   ]
  },
  {
   "cell_type": "markdown",
   "id": "1f440694-e069-4cbf-a628-520b0e130276",
   "metadata": {},
   "source": [
    "## 4. Data cleaning"
   ]
  },
  {
   "cell_type": "markdown",
   "id": "89fff725-86b5-45d1-8c6a-179e0a558940",
   "metadata": {},
   "source": [
    "### 4.1 remove noisy data "
   ]
  },
  {
   "cell_type": "code",
   "execution_count": 7,
   "id": "4668c21f-cb4d-48a0-aa42-ccb0a052b901",
   "metadata": {
    "tags": []
   },
   "outputs": [],
   "source": [
    "# number of passengers > 0\n",
    "yellow_17_1_clean = yellow_17_1[(yellow_17_1['passenger_count'] > 0)]\n",
    "del yellow_17_1\n",
    "yellow_17_2_clean = yellow_17_2[(yellow_17_2['passenger_count'] > 0)]\n",
    "del yellow_17_2\n",
    "yellow_17_3_clean = yellow_17_3[(yellow_17_3['passenger_count'] > 0)]\n",
    "del yellow_17_3\n",
    "\n",
    "\n",
    "# trip distance > 0\n",
    "yellow_17_1_clean = yellow_17_1_clean[(yellow_17_1_clean['trip_distance'] > 0)]\n",
    "yellow_17_2_clean = yellow_17_2_clean[(yellow_17_2_clean['trip_distance'] > 0)]\n",
    "yellow_17_3_clean = yellow_17_3_clean[(yellow_17_3_clean['trip_distance'] > 0)]\n",
    "\n",
    "# total amount >= 2.5\n",
    "yellow_17_1_clean = yellow_17_1_clean[(yellow_17_1_clean['total_amount'] >= 2.5)]\n",
    "yellow_17_2_clean = yellow_17_2_clean[(yellow_17_2_clean['total_amount'] >= 2.5)]\n",
    "yellow_17_3_clean = yellow_17_3_clean[(yellow_17_3_clean['total_amount'] >= 2.5)]\n",
    "\n",
    "# fare_amount >= 2.5\n",
    "yellow_17_1_clean = yellow_17_1_clean[(yellow_17_1_clean['fare_amount'] >= 2.5)]\n",
    "yellow_17_2_clean = yellow_17_2_clean[(yellow_17_2_clean['fare_amount'] >= 2.5)]\n",
    "yellow_17_3_clean = yellow_17_3_clean[(yellow_17_3_clean['fare_amount'] >= 2.5)]\n",
    "\n",
    "# card only \n",
    "yellow_17_1_clean = yellow_17_1_clean[(yellow_17_1_clean['payment_type'] == 1)]\n",
    "yellow_17_2_clean = yellow_17_2_clean[(yellow_17_2_clean['payment_type'] == 1)]\n",
    "yellow_17_3_clean = yellow_17_3_clean[(yellow_17_3_clean['payment_type'] == 1)]\n",
    "\n",
    "# trip time within this month\n",
    "## Yellow\n",
    "yellow_17_1_clean = yellow_17_1_clean[(yellow_17_1_clean['tpep_pickup_datetime'] >= \"2017-01-01 00:00:00\") & \\\n",
    "                                     (yellow_17_1_clean['tpep_pickup_datetime'] <= \"2017-01-31 23:59:59\")]\n",
    "\n",
    "yellow_17_2_clean = yellow_17_2_clean[(yellow_17_2_clean['tpep_pickup_datetime'] >= \"2017-02-01 00:00:00\") & \\\n",
    "                                     (yellow_17_2_clean['tpep_pickup_datetime'] <= \"2017-02-28 23:59:59\")]\n",
    "\n",
    "yellow_17_3_clean = yellow_17_3_clean[(yellow_17_3_clean['tpep_pickup_datetime'] >= \"2017-03-01 00:00:00\") & \\\n",
    "                                     (yellow_17_3_clean['tpep_pickup_datetime'] <= \"2017-03-31 23:59:59\")]\n",
    "\n",
    "yellow_17_1_clean = yellow_17_1_clean[(yellow_17_1_clean['tpep_dropoff_datetime'] >= \"2017-01-01 00:00:00\") & \\\n",
    "                                     (yellow_17_1_clean['tpep_dropoff_datetime'] <= \"2017-01-31 23:59:59\")]\n",
    "\n",
    "yellow_17_2_clean = yellow_17_2_clean[(yellow_17_2_clean['tpep_dropoff_datetime'] >= \"2017-02-01 00:00:00\") & \\\n",
    "                                     (yellow_17_2_clean['tpep_dropoff_datetime'] <= \"2017-02-28 23:59:59\")]\n",
    "\n",
    "yellow_17_3_clean = yellow_17_3_clean[(yellow_17_3_clean['tpep_dropoff_datetime'] >= \"2017-03-01 00:00:00\") & \\\n",
    "                                     (yellow_17_3_clean['tpep_dropoff_datetime'] <= \"2017-03-31 23:59:59\")]\n",
    "\n"
   ]
  },
  {
   "cell_type": "markdown",
   "id": "2dbb3ac1-f206-4aa3-a349-8162f2415e84",
   "metadata": {},
   "source": [
    "### 4.2 detect outliers"
   ]
  },
  {
   "cell_type": "code",
   "execution_count": 8,
   "id": "8860a175-ed2e-4bbf-9bfd-725aa040c8b7",
   "metadata": {},
   "outputs": [],
   "source": [
    "amount_cols = ['fare_amount', 'tip_amount', 'total_amount']"
   ]
  },
  {
   "cell_type": "code",
   "execution_count": 9,
   "id": "4b8430d6-8bbc-4bf1-b08f-cb9e0481d2b8",
   "metadata": {
    "tags": []
   },
   "outputs": [
    {
     "data": {
      "text/plain": [
       "<AxesSubplot:>"
      ]
     },
     "execution_count": 9,
     "metadata": {},
     "output_type": "execute_result"
    },
    {
     "data": {
      "image/png": "[encoded data removed]",
      "text/plain": [
       "<Figure size 432x288 with 1 Axes>"
      ]
     },
     "metadata": {
      "needs_background": "light"
     },
     "output_type": "display_data"
    }
   ],
   "source": [
    "yellow_17_1_clean.boxplot(column = amount_cols, rot = 45, fontsize=15)"
   ]
  },
  {
   "cell_type": "code",
   "execution_count": 10,
   "id": "fa09fb9f-fd63-4bea-ac23-e18d04a95a3d",
   "metadata": {},
   "outputs": [
    {
     "data": {
      "text/plain": [
       "<AxesSubplot:>"
      ]
     },
     "execution_count": 10,
     "metadata": {},
     "output_type": "execute_result"
    },
    {
     "data": {
      "image/png": "[encoded data removed]",
      "text/plain": [
       "<Figure size 432x288 with 1 Axes>"
      ]
     },
     "metadata": {
      "needs_background": "light"
     },
     "output_type": "display_data"
    }
   ],
   "source": [
    "yellow_17_2_clean.boxplot(column = amount_cols, rot = 45, fontsize=15)"
   ]
  },
  {
   "cell_type": "code",
   "execution_count": 11,
   "id": "b3e55e99-55c4-4934-94b8-5c00dfbf7efb",
   "metadata": {},
   "outputs": [
    {
     "data": {
      "text/plain": [
       "<AxesSubplot:>"
      ]
     },
     "execution_count": 11,
     "metadata": {},
     "output_type": "execute_result"
    },
    {
     "data": {
      "image/png": "[encoded data removed]",
      "text/plain": [
       "<Figure size 432x288 with 1 Axes>"
      ]
     },
     "metadata": {
      "needs_background": "light"
     },
     "output_type": "display_data"
    }
   ],
   "source": [
    "yellow_17_3_clean.boxplot(column = amount_cols, rot = 45, fontsize=15)"
   ]
  },
  {
   "cell_type": "markdown",
   "id": "e40d4e14-b942-445b-8cbe-33bbdfabc5db",
   "metadata": {},
   "source": [
    "### 4.3 remove outliers"
   ]
  },
  {
   "cell_type": "code",
   "execution_count": 12,
   "id": "86a013f8-55cc-43ae-a77b-baf1911c7f3c",
   "metadata": {
    "tags": []
   },
   "outputs": [],
   "source": [
    "# Yellow\n",
    "amount_Q1 = yellow_17_1_clean[amount_cols].quantile(0.25)\n",
    "amount_Q3 = yellow_17_1_clean[amount_cols].quantile(0.75)\n",
    "amount_IQR = amount_Q3 - amount_Q1\n",
    "yellow_17_1_clean = yellow_17_1_clean[~((yellow_17_1_clean[amount_cols] > (amount_Q3 + 3 * amount_IQR)) | (yellow_17_1_clean[amount_cols] < (amount_Q1 - 3 * amount_IQR))).any(axis=1)]\n",
    "\n",
    "amount_Q1 = yellow_17_2_clean[amount_cols].quantile(0.25)\n",
    "amount_Q3 = yellow_17_2_clean[amount_cols].quantile(0.75)\n",
    "amount_IQR = amount_Q3 - amount_Q1\n",
    "yellow_17_2_clean = yellow_17_2_clean[~((yellow_17_2_clean[amount_cols] > (amount_Q3 + 3 * amount_IQR)) | (yellow_17_2_clean[amount_cols] < (amount_Q1 - 3 * amount_IQR))).any(axis=1)]\n",
    "\n",
    "amount_Q1 = yellow_17_3_clean[amount_cols].quantile(0.25)\n",
    "amount_Q3 = yellow_17_3_clean[amount_cols].quantile(0.75)\n",
    "amount_IQR = amount_Q3 - amount_Q1\n",
    "yellow_17_3_clean = yellow_17_3_clean[~((yellow_17_3_clean[amount_cols] > (amount_Q3 + 3 * amount_IQR)) | (yellow_17_3_clean[amount_cols] < (amount_Q1 - 3 * amount_IQR))).any(axis=1)]\n"
   ]
  },
  {
   "cell_type": "code",
   "execution_count": 13,
   "id": "6444f8cc-8770-4b83-b657-677da7e60817",
   "metadata": {
    "tags": []
   },
   "outputs": [
    {
     "data": {
      "text/plain": [
       "<AxesSubplot:>"
      ]
     },
     "execution_count": 13,
     "metadata": {},
     "output_type": "execute_result"
    },
    {
     "data": {
      "image/png": "[encoded data removed]",
      "text/plain": [
       "<Figure size 432x288 with 1 Axes>"
      ]
     },
     "metadata": {
      "needs_background": "light"
     },
     "output_type": "display_data"
    }
   ],
   "source": [
    "yellow_17_1_clean.boxplot(column = amount_cols, rot = 45, fontsize=15)"
   ]
  },
  {
   "cell_type": "code",
   "execution_count": 14,
   "id": "1e27c72a-43df-442e-9120-6586af35bd32",
   "metadata": {},
   "outputs": [
    {
     "data": {
      "text/plain": [
       "<AxesSubplot:>"
      ]
     },
     "execution_count": 14,
     "metadata": {},
     "output_type": "execute_result"
    },
    {
     "data": {
      "image/png": "[encoded data removed]",
      "text/plain": [
       "<Figure size 432x288 with 1 Axes>"
      ]
     },
     "metadata": {
      "needs_background": "light"
     },
     "output_type": "display_data"
    }
   ],
   "source": [
    "yellow_17_2_clean.boxplot(column = amount_cols, rot = 45, fontsize=15)"
   ]
  },
  {
   "cell_type": "code",
   "execution_count": 15,
   "id": "72747a3d-7547-4a3f-adba-a500a7021f90",
   "metadata": {},
   "outputs": [
    {
     "data": {
      "text/plain": [
       "<AxesSubplot:>"
      ]
     },
     "execution_count": 15,
     "metadata": {},
     "output_type": "execute_result"
    },
    {
     "data": {
      "image/png": "[encoded data removed]",
      "text/plain": [
       "<Figure size 432x288 with 1 Axes>"
      ]
     },
     "metadata": {
      "needs_background": "light"
     },
     "output_type": "display_data"
    }
   ],
   "source": [
    "yellow_17_3_clean.boxplot(column = amount_cols, rot = 45, fontsize=15)"
   ]
  },
  {
   "cell_type": "markdown",
   "id": "0ad52503-6423-4591-8acf-40f41b723895",
   "metadata": {},
   "source": [
    "## 5. Feature engineering"
   ]
  },
  {
   "cell_type": "code",
   "execution_count": 16,
   "id": "4c038d2d-e141-4331-9f47-874e7b449567",
   "metadata": {},
   "outputs": [],
   "source": [
    "# Yellow\n",
    "yellow_17_1_clean['tpep_pickup_datetime'] = pd.to_datetime(yellow_17_1_clean['tpep_pickup_datetime'],\n",
    "                             format='%Y/%m/%d %H:%M', errors='coerce')\n",
    "\n",
    "yellow_17_2_clean['tpep_pickup_datetime'] = pd.to_datetime(yellow_17_2_clean['tpep_pickup_datetime'],\n",
    "                             format='%Y/%m/%d %H:%M', errors='coerce')\n",
    "\n",
    "yellow_17_3_clean['tpep_pickup_datetime'] = pd.to_datetime(yellow_17_3_clean['tpep_pickup_datetime'],\n",
    "                             format='%Y/%m/%d %H:%M', errors='coerce')\n",
    "\n",
    "yellow_17_1_clean['tpep_dropoff_datetime'] = pd.to_datetime(yellow_17_1_clean['tpep_dropoff_datetime'],\n",
    "                             format='%Y/%m/%d %H:%M', errors='coerce')\n",
    "\n",
    "yellow_17_2_clean['tpep_dropoff_datetime'] = pd.to_datetime(yellow_17_2_clean['tpep_dropoff_datetime'],\n",
    "                             format='%Y/%m/%d %H:%M', errors='coerce')\n",
    "\n",
    "yellow_17_3_clean['tpep_dropoff_datetime'] = pd.to_datetime(yellow_17_3_clean['tpep_dropoff_datetime'],\n",
    "                             format='%Y/%m/%d %H:%M', errors='coerce')\n",
    "\n",
    "yellow_17_1_clean['pickup_date'] = yellow_17_1_clean['tpep_pickup_datetime'].dt.strftime('%Y-%m-%d')\n",
    "\n",
    "yellow_17_2_clean['pickup_date'] = yellow_17_2_clean['tpep_pickup_datetime'].dt.strftime('%Y-%m-%d')\n",
    "\n",
    "yellow_17_3_clean['pickup_date'] = yellow_17_3_clean['tpep_pickup_datetime'].dt.strftime('%Y-%m-%d')\n",
    "\n",
    "yellow_17_1_clean['duration'] = (yellow_17_1_clean['tpep_dropoff_datetime'] -\n",
    "                  yellow_17_1_clean['tpep_pickup_datetime']).dt.seconds.astype(int) /60\n",
    "\n",
    "yellow_17_2_clean['duration'] = (yellow_17_2_clean['tpep_dropoff_datetime'] -\n",
    "                  yellow_17_2_clean['tpep_pickup_datetime']).dt.seconds.astype(int) /60\n",
    "\n",
    "yellow_17_3_clean['duration'] = (yellow_17_3_clean['tpep_dropoff_datetime'] -\n",
    "                  yellow_17_3_clean['tpep_pickup_datetime']).dt.seconds.astype(int) /60\n",
    "\n",
    "yellow_17_1_clean['pickup_hour'] =  yellow_17_1_clean['tpep_pickup_datetime'].dt.hour\n",
    "\n",
    "yellow_17_2_clean['pickup_hour'] =  yellow_17_2_clean['tpep_pickup_datetime'].dt.hour\n",
    "\n",
    "yellow_17_3_clean['pickup_hour'] =  yellow_17_3_clean['tpep_pickup_datetime'].dt.hour"
   ]
  },
  {
   "cell_type": "markdown",
   "id": "d8269a69-4cb3-42e5-83f1-7bc4aa60bf64",
   "metadata": {},
   "source": [
    "## 6. Save to file"
   ]
  },
  {
   "cell_type": "code",
   "execution_count": 17,
   "id": "231298d3-de18-466c-b1ef-025ef8df626d",
   "metadata": {},
   "outputs": [],
   "source": [
    "# Yellow\n",
    "yellow_17_1_clean.reset_index().to_feather('../preprocessed_data/2017_01_yellow_cleaned.feather')\n",
    "del yellow_17_1_clean\n",
    "\n",
    "yellow_17_2_clean.reset_index().to_feather('../preprocessed_data/2017_02_yellow_cleaned.feather')\n",
    "del yellow_17_2_clean\n",
    "\n",
    "yellow_17_3_clean.reset_index().to_feather('../preprocessed_data/2017_03_yellow_cleaned.feather')\n",
    "del yellow_17_3_clean\n"
   ]
  }
 ],
 "metadata": {
  "kernelspec": {
   "display_name": "Python 3",
   "language": "python",
   "name": "python3"
  },
  "language_info": {
   "codemirror_mode": {
    "name": "ipython",
    "version": 3
   },
   "file_extension": ".py",
   "mimetype": "text/x-python",
   "name": "python",
   "nbconvert_exporter": "python",
   "pygments_lexer": "ipython3",
   "version": "3.8.8"
  }
 },
 "nbformat": 4,
 "nbformat_minor": 5
}
