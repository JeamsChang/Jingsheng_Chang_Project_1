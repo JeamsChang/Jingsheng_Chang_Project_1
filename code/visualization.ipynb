{
 "cells": [
  {
   "cell_type": "code",
   "execution_count": 1,
   "id": "c2c2ecb8-05a9-458c-958e-eba0a25a9d84",
   "metadata": {
    "tags": []
   },
   "outputs": [],
   "source": [
    "# pip install geopandas"
   ]
  },
  {
   "cell_type": "code",
   "execution_count": 2,
   "id": "054f1315-712d-4859-b351-caa70db5879f",
   "metadata": {},
   "outputs": [],
   "source": [
    "#pip install folium"
   ]
  },
  {
   "cell_type": "code",
   "execution_count": 3,
   "id": "dd7c0cde-da7d-4447-92a6-5e7ab8c0e2c3",
   "metadata": {},
   "outputs": [],
   "source": [
    "import geopandas as gpd\n",
    "import pandas as pd\n",
    "import numpy as np\n",
    "import folium\n",
    "import matplotlib.mlab as alab\n",
    "import matplotlib.pyplot as plt\n",
    "from folium.plugins import HeatMap\n",
    "from folium.plugins import FastMarkerCluster \n",
    "import warnings\n",
    "warnings.filterwarnings(\"ignore\")"
   ]
  },
  {
   "cell_type": "code",
   "execution_count": 5,
   "id": "6e22fd19-ca09-425d-989b-2b3bf3e63d6a",
   "metadata": {},
   "outputs": [
    {
     "data": {
      "text/plain": [
       "(18539360, 20)"
      ]
     },
     "execution_count": 5,
     "metadata": {},
     "output_type": "execute_result"
    }
   ],
   "source": [
    "yellow_cleaned = pd.read_feather('../preprocessed_data/yellow_cleaned.feather').drop('index', axis = 1)\n",
    "\n",
    "yellow_cleaned.shape"
   ]
  },
  {
   "cell_type": "code",
   "execution_count": null,
   "id": "8a5b5243-7e43-4dbe-8883-ae8e57e90e16",
   "metadata": {},
   "outputs": [],
   "source": [
    "sf = gpd.read_file('../raw_data/taxi_zones/taxi_zones.shp')\n",
    "sf['geometry'] = sf['geometry'].to_crs(\"+proj=longlat +ellps=WGS84 +datum=WGS84 +no_defs\")"
   ]
  },
  {
   "cell_type": "code",
   "execution_count": null,
   "id": "94971243-12fe-4985-b64c-93287819defc",
   "metadata": {},
   "outputs": [],
   "source": [
    "sf"
   ]
  },
  {
   "cell_type": "code",
   "execution_count": null,
   "id": "67f89c11-1404-430f-b54e-c78c5010a24b",
   "metadata": {},
   "outputs": [],
   "source": [
    "sf['geometry']"
   ]
  },
  {
   "cell_type": "code",
   "execution_count": null,
   "id": "04d4776d-4bb1-495d-8c6e-b6db0731b436",
   "metadata": {},
   "outputs": [],
   "source": [
    "pickup_count = yellow_cleaned['PULocationID'].value_counts().sort_index()\n",
    "pickup_count = pd.DataFrame({'LocationID' : pickup_count.index, 'pickup_count' : pickup_count})\n",
    "gdf = gpd.GeoDataFrame(pd.merge(pickup_count, sf, left_on = 'LocationID', right_on = 'LocationID')).drop('LocationID', axis = 1)\n"
   ]
  },
  {
   "cell_type": "code",
   "execution_count": null,
   "id": "c86d9df3-155d-40db-98f8-e7b39b9f3075",
   "metadata": {},
   "outputs": [],
   "source": [
    "gdf"
   ]
  },
  {
   "cell_type": "code",
   "execution_count": null,
   "id": "c260d985-46db-4038-92c2-ddb295f1ca3b",
   "metadata": {},
   "outputs": [],
   "source": [
    "xmin = 0\n",
    "xmax = gdf['pickup_count'].max()\n",
    "\n",
    "fig, ax = plt.subplots(1, figsize = (11, 11))\n",
    "\n",
    "ax.set_title('Number of piick up at each regin in 3 month')\n",
    "cb = plt.cm.ScalarMappable(cmap = 'Blues', norm=plt.Normalize(vmin = xmin, vmax = xmax))\n",
    "cb.set_array([])\n",
    "fig.colorbar(cb)\n",
    "gdf.plot(column = 'pickup_count', cmap = 'Blues', linewidth = 1.5, ax = ax, edgecolor = '0.2')"
   ]
  },
  {
   "cell_type": "code",
   "execution_count": null,
   "id": "be2f4f00-dec5-4cf0-8853-27408a1d86c0",
   "metadata": {},
   "outputs": [],
   "source": [
    "m = folium.Map(location=[40.66, -73.94], tiles=\"Stamen Terrain\", zoom_start=10)\n",
    "\n",
    "folium.Choropleth(\n",
    "    geo_data = gdf,\n",
    "    name = 'choropleth,',\n",
    "    data = gdf,\n",
    "    columns = ['OBJECTID', 'pickup_count'],\n",
    "    key_on = 'feature.properties.OBJECTID',\n",
    "    fill_opacity = 1,\n",
    "    line_opacity = 0.3,\n",
    ").add_to(m)\n",
    "\n",
    "m"
   ]
  }
 ],
 "metadata": {
  "kernelspec": {
   "display_name": "Python 3",
   "language": "python",
   "name": "python3"
  },
  "language_info": {
   "codemirror_mode": {
    "name": "ipython",
    "version": 3
   },
   "file_extension": ".py",
   "mimetype": "text/x-python",
   "name": "python",
   "nbconvert_exporter": "python",
   "pygments_lexer": "ipython3",
   "version": "3.8.8"
  }
 },
 "nbformat": 4,
 "nbformat_minor": 5
}
