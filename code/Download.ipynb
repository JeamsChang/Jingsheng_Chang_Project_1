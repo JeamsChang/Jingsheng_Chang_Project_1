{
 "cells": [
  {
   "cell_type": "code",
   "execution_count": null,
   "source": [
    "from os.path import getsize\n",
    "from urllib.request import urlretrieve\n",
    "\n",
    "# you will need to create the \"large\" folder if it does not exist\n",
    "# you can also change this to change where you want the data to be downloaded\n",
    "output_dir = \"../data/large\"\n",
    "\n",
    "# template for the type of taxi / year you wish to download\n",
    "fname_template = \"yellow_tripdata_2017\"\n",
    "\n",
    "# change range(x, y) to be the months you want\n",
    "for m in range(1, 4):\n",
    "    month = str(m).zfill(2)\n",
    "    out = f'{fname_template}-{month}.csv'\n",
    "    url = f\"https://s3.amazonaws.com/nyc-tlc/trip+data/{out}\"\n",
    "    urlretrieve(url, f\"{output_dir}/{out}\")\n",
    "\n",
    "    print(f\"Done downloading {out} to {output_dir} with size {getsize(f'{output_dir}/{out}') / 1073741824:.2f}GB\")"
   ],
   "outputs": [],
   "metadata": {}
  }
 ],
 "metadata": {
  "kernelspec": {
   "display_name": "Python 3",
   "language": "python",
   "name": "python3"
  },
  "language_info": {
   "codemirror_mode": {
    "name": "ipython",
    "version": 3
   },
   "file_extension": ".py",
   "mimetype": "text/x-python",
   "name": "python",
   "nbconvert_exporter": "python",
   "pygments_lexer": "ipython3",
   "version": "3.8.8"
  }
 },
 "nbformat": 4,
 "nbformat_minor": 5
}